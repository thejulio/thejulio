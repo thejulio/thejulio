{
  "cells": [
    {
      "cell_type": "markdown",
      "id": "ddd91c2e-6eda-444b-9ade-509803bf0eea",
      "metadata": {
        "tags": [],
        "id": "ddd91c2e-6eda-444b-9ade-509803bf0eea"
      },
      "source": [
        "[![Open In Colab](https://colab.research.google.com/assets/colab-badge.svg)](https://colab.research.google.com/github/TobGerken/ISAT300/blob/main/1_GettingStarted.ipynb)"
      ]
    },
    {
      "cell_type": "markdown",
      "id": "c43866c1-4dd9-4353-9e81-f155fd8f4a23",
      "metadata": {
        "id": "c43866c1-4dd9-4353-9e81-f155fd8f4a23"
      },
      "source": [
        "# Getting Started with Data in Jupyter\n",
        "\n",
        "**This notebook is published on my github. It is publicly accessible, but you cannot save your changes to my github. Learning git & github is beyond the scope of this course. If you are familiar with github, you know that to do. If you don't know github, you can save a personal copy of the file to your google drive, so that you can save your changes and can access them at a later date**\n",
        "\n",
        "<img src=\"https://raw.githubusercontent.com/TobGerken/ISAT300/main/Figures/SaveFile.png \" alt=\"drawing\" width=\"800\"/>\n",
        "\n",
        "## Now lets get started\n",
        "\n",
        "We are starting with some initial data analysis.\n",
        "[Pandas](https://pandas.pydata.org/) is a powerful data analysis tool built on top of [python](www.python.org) to read, manipulate, and visualize data. Much like Excel, python organizes data in Tables, which it calls dataframes.\n",
        "\n",
        "Because pandas is not part of the core python language we have to import it as a module:"
      ]
    },
    {
      "cell_type": "code",
      "execution_count": null,
      "id": "5164b321-7825-456b-9472-359bfe856815",
      "metadata": {
        "id": "5164b321-7825-456b-9472-359bfe856815"
      },
      "outputs": [],
      "source": [
        "# running this will import pandas.\n",
        "import pandas as pd"
      ]
    },
    {
      "cell_type": "markdown",
      "id": "730c6f27-0262-491b-9dff-2676b84643e8",
      "metadata": {
        "id": "730c6f27-0262-491b-9dff-2676b84643e8"
      },
      "source": [
        "## Reading data into a pandas dataframe\n",
        "\n",
        "To look at some data, we have to get it into a pandas dataframe. Pandas has a lot of different functions to read data that is saved as a file.\n",
        "\n",
        "I saved a dataset containing MPG values for different cars to the cloud. This file is a CSV file, which stands for 'comma separated values'. We can load the content of this file into a dataframe object that we call `df`."
      ]
    },
    {
      "cell_type": "code",
      "execution_count": null,
      "id": "a18b4a55-abb3-488c-920f-440709400c24",
      "metadata": {
        "id": "a18b4a55-abb3-488c-920f-440709400c24"
      },
      "outputs": [],
      "source": [
        "# This loads the data, which is saved online\n",
        "df = pd.read_csv('https://raw.githubusercontent.com/TobGerken/ISAT300/main/Data/mpg_cated.csv')"
      ]
    },
    {
      "cell_type": "markdown",
      "id": "12be4833-6579-409c-947d-65b07be24cf3",
      "metadata": {
        "tags": [],
        "id": "12be4833-6579-409c-947d-65b07be24cf3"
      },
      "source": [
        "When using [Google Collab](https://colab.research.google.com) you can either load data that is stored in the cloud or you can upload data into collab.\n",
        "To do so follow the steps shown below:\n",
        "\n",
        "<img src=\"https://raw.githubusercontent.com/TobGerken/ISAT300/main/Figures/UploadingAFile.PNG \" alt=\"drawing\" width=\"800\"/>\n"
      ]
    },
    {
      "cell_type": "markdown",
      "id": "13b196af-efb5-4b14-bca9-896e903cb76b",
      "metadata": {
        "id": "13b196af-efb5-4b14-bca9-896e903cb76b"
      },
      "source": [
        "Assuming the file is now uploaded to Collab, you can load it to the dataframe by specifying the local path"
      ]
    },
    {
      "cell_type": "code",
      "execution_count": null,
      "id": "ee3896e7-c24c-4f61-bb51-688aebce1212",
      "metadata": {
        "id": "ee3896e7-c24c-4f61-bb51-688aebce1212",
        "outputId": "059d3b1a-dd8c-490b-af17-05f5e4389cb8"
      },
      "outputs": [
        {
          "ename": "FileNotFoundError",
          "evalue": "[Errno 2] No such file or directory: './mpg_cated.csv'",
          "output_type": "error",
          "traceback": [
            "\u001b[1;31m---------------------------------------------------------------------------\u001b[0m",
            "\u001b[1;31mFileNotFoundError\u001b[0m                         Traceback (most recent call last)",
            "\u001b[1;32m<ipython-input-4-23ac84142d6d>\u001b[0m in \u001b[0;36m<module>\u001b[1;34m\u001b[0m\n\u001b[1;32m----> 1\u001b[1;33m \u001b[0mdf\u001b[0m \u001b[1;33m=\u001b[0m \u001b[0mpd\u001b[0m\u001b[1;33m.\u001b[0m\u001b[0mread_csv\u001b[0m\u001b[1;33m(\u001b[0m\u001b[1;34m'./mpg_cated.csv'\u001b[0m\u001b[1;33m)\u001b[0m\u001b[1;33m\u001b[0m\u001b[1;33m\u001b[0m\u001b[0m\n\u001b[0m",
            "\u001b[1;32m~\\Anaconda3\\lib\\site-packages\\pandas\\io\\parsers.py\u001b[0m in \u001b[0;36mread_csv\u001b[1;34m(filepath_or_buffer, sep, delimiter, header, names, index_col, usecols, squeeze, prefix, mangle_dupe_cols, dtype, engine, converters, true_values, false_values, skipinitialspace, skiprows, skipfooter, nrows, na_values, keep_default_na, na_filter, verbose, skip_blank_lines, parse_dates, infer_datetime_format, keep_date_col, date_parser, dayfirst, cache_dates, iterator, chunksize, compression, thousands, decimal, lineterminator, quotechar, quoting, doublequote, escapechar, comment, encoding, dialect, error_bad_lines, warn_bad_lines, delim_whitespace, low_memory, memory_map, float_precision, storage_options)\u001b[0m\n\u001b[0;32m    608\u001b[0m     \u001b[0mkwds\u001b[0m\u001b[1;33m.\u001b[0m\u001b[0mupdate\u001b[0m\u001b[1;33m(\u001b[0m\u001b[0mkwds_defaults\u001b[0m\u001b[1;33m)\u001b[0m\u001b[1;33m\u001b[0m\u001b[1;33m\u001b[0m\u001b[0m\n\u001b[0;32m    609\u001b[0m \u001b[1;33m\u001b[0m\u001b[0m\n\u001b[1;32m--> 610\u001b[1;33m     \u001b[1;32mreturn\u001b[0m \u001b[0m_read\u001b[0m\u001b[1;33m(\u001b[0m\u001b[0mfilepath_or_buffer\u001b[0m\u001b[1;33m,\u001b[0m \u001b[0mkwds\u001b[0m\u001b[1;33m)\u001b[0m\u001b[1;33m\u001b[0m\u001b[1;33m\u001b[0m\u001b[0m\n\u001b[0m\u001b[0;32m    611\u001b[0m \u001b[1;33m\u001b[0m\u001b[0m\n\u001b[0;32m    612\u001b[0m \u001b[1;33m\u001b[0m\u001b[0m\n",
            "\u001b[1;32m~\\Anaconda3\\lib\\site-packages\\pandas\\io\\parsers.py\u001b[0m in \u001b[0;36m_read\u001b[1;34m(filepath_or_buffer, kwds)\u001b[0m\n\u001b[0;32m    460\u001b[0m \u001b[1;33m\u001b[0m\u001b[0m\n\u001b[0;32m    461\u001b[0m     \u001b[1;31m# Create the parser.\u001b[0m\u001b[1;33m\u001b[0m\u001b[1;33m\u001b[0m\u001b[1;33m\u001b[0m\u001b[0m\n\u001b[1;32m--> 462\u001b[1;33m     \u001b[0mparser\u001b[0m \u001b[1;33m=\u001b[0m \u001b[0mTextFileReader\u001b[0m\u001b[1;33m(\u001b[0m\u001b[0mfilepath_or_buffer\u001b[0m\u001b[1;33m,\u001b[0m \u001b[1;33m**\u001b[0m\u001b[0mkwds\u001b[0m\u001b[1;33m)\u001b[0m\u001b[1;33m\u001b[0m\u001b[1;33m\u001b[0m\u001b[0m\n\u001b[0m\u001b[0;32m    463\u001b[0m \u001b[1;33m\u001b[0m\u001b[0m\n\u001b[0;32m    464\u001b[0m     \u001b[1;32mif\u001b[0m \u001b[0mchunksize\u001b[0m \u001b[1;32mor\u001b[0m \u001b[0miterator\u001b[0m\u001b[1;33m:\u001b[0m\u001b[1;33m\u001b[0m\u001b[1;33m\u001b[0m\u001b[0m\n",
            "\u001b[1;32m~\\Anaconda3\\lib\\site-packages\\pandas\\io\\parsers.py\u001b[0m in \u001b[0;36m__init__\u001b[1;34m(self, f, engine, **kwds)\u001b[0m\n\u001b[0;32m    817\u001b[0m             \u001b[0mself\u001b[0m\u001b[1;33m.\u001b[0m\u001b[0moptions\u001b[0m\u001b[1;33m[\u001b[0m\u001b[1;34m\"has_index_names\"\u001b[0m\u001b[1;33m]\u001b[0m \u001b[1;33m=\u001b[0m \u001b[0mkwds\u001b[0m\u001b[1;33m[\u001b[0m\u001b[1;34m\"has_index_names\"\u001b[0m\u001b[1;33m]\u001b[0m\u001b[1;33m\u001b[0m\u001b[1;33m\u001b[0m\u001b[0m\n\u001b[0;32m    818\u001b[0m \u001b[1;33m\u001b[0m\u001b[0m\n\u001b[1;32m--> 819\u001b[1;33m         \u001b[0mself\u001b[0m\u001b[1;33m.\u001b[0m\u001b[0m_engine\u001b[0m \u001b[1;33m=\u001b[0m \u001b[0mself\u001b[0m\u001b[1;33m.\u001b[0m\u001b[0m_make_engine\u001b[0m\u001b[1;33m(\u001b[0m\u001b[0mself\u001b[0m\u001b[1;33m.\u001b[0m\u001b[0mengine\u001b[0m\u001b[1;33m)\u001b[0m\u001b[1;33m\u001b[0m\u001b[1;33m\u001b[0m\u001b[0m\n\u001b[0m\u001b[0;32m    820\u001b[0m \u001b[1;33m\u001b[0m\u001b[0m\n\u001b[0;32m    821\u001b[0m     \u001b[1;32mdef\u001b[0m \u001b[0mclose\u001b[0m\u001b[1;33m(\u001b[0m\u001b[0mself\u001b[0m\u001b[1;33m)\u001b[0m\u001b[1;33m:\u001b[0m\u001b[1;33m\u001b[0m\u001b[1;33m\u001b[0m\u001b[0m\n",
            "\u001b[1;32m~\\Anaconda3\\lib\\site-packages\\pandas\\io\\parsers.py\u001b[0m in \u001b[0;36m_make_engine\u001b[1;34m(self, engine)\u001b[0m\n\u001b[0;32m   1048\u001b[0m             )\n\u001b[0;32m   1049\u001b[0m         \u001b[1;31m# error: Too many arguments for \"ParserBase\"\u001b[0m\u001b[1;33m\u001b[0m\u001b[1;33m\u001b[0m\u001b[1;33m\u001b[0m\u001b[0m\n\u001b[1;32m-> 1050\u001b[1;33m         \u001b[1;32mreturn\u001b[0m \u001b[0mmapping\u001b[0m\u001b[1;33m[\u001b[0m\u001b[0mengine\u001b[0m\u001b[1;33m]\u001b[0m\u001b[1;33m(\u001b[0m\u001b[0mself\u001b[0m\u001b[1;33m.\u001b[0m\u001b[0mf\u001b[0m\u001b[1;33m,\u001b[0m \u001b[1;33m**\u001b[0m\u001b[0mself\u001b[0m\u001b[1;33m.\u001b[0m\u001b[0moptions\u001b[0m\u001b[1;33m)\u001b[0m  \u001b[1;31m# type: ignore[call-arg]\u001b[0m\u001b[1;33m\u001b[0m\u001b[1;33m\u001b[0m\u001b[0m\n\u001b[0m\u001b[0;32m   1051\u001b[0m \u001b[1;33m\u001b[0m\u001b[0m\n\u001b[0;32m   1052\u001b[0m     \u001b[1;32mdef\u001b[0m \u001b[0m_failover_to_python\u001b[0m\u001b[1;33m(\u001b[0m\u001b[0mself\u001b[0m\u001b[1;33m)\u001b[0m\u001b[1;33m:\u001b[0m\u001b[1;33m\u001b[0m\u001b[1;33m\u001b[0m\u001b[0m\n",
            "\u001b[1;32m~\\Anaconda3\\lib\\site-packages\\pandas\\io\\parsers.py\u001b[0m in \u001b[0;36m__init__\u001b[1;34m(self, src, **kwds)\u001b[0m\n\u001b[0;32m   1865\u001b[0m \u001b[1;33m\u001b[0m\u001b[0m\n\u001b[0;32m   1866\u001b[0m         \u001b[1;31m# open handles\u001b[0m\u001b[1;33m\u001b[0m\u001b[1;33m\u001b[0m\u001b[1;33m\u001b[0m\u001b[0m\n\u001b[1;32m-> 1867\u001b[1;33m         \u001b[0mself\u001b[0m\u001b[1;33m.\u001b[0m\u001b[0m_open_handles\u001b[0m\u001b[1;33m(\u001b[0m\u001b[0msrc\u001b[0m\u001b[1;33m,\u001b[0m \u001b[0mkwds\u001b[0m\u001b[1;33m)\u001b[0m\u001b[1;33m\u001b[0m\u001b[1;33m\u001b[0m\u001b[0m\n\u001b[0m\u001b[0;32m   1868\u001b[0m         \u001b[1;32massert\u001b[0m \u001b[0mself\u001b[0m\u001b[1;33m.\u001b[0m\u001b[0mhandles\u001b[0m \u001b[1;32mis\u001b[0m \u001b[1;32mnot\u001b[0m \u001b[1;32mNone\u001b[0m\u001b[1;33m\u001b[0m\u001b[1;33m\u001b[0m\u001b[0m\n\u001b[0;32m   1869\u001b[0m         \u001b[1;32mfor\u001b[0m \u001b[0mkey\u001b[0m \u001b[1;32min\u001b[0m \u001b[1;33m(\u001b[0m\u001b[1;34m\"storage_options\"\u001b[0m\u001b[1;33m,\u001b[0m \u001b[1;34m\"encoding\"\u001b[0m\u001b[1;33m,\u001b[0m \u001b[1;34m\"memory_map\"\u001b[0m\u001b[1;33m,\u001b[0m \u001b[1;34m\"compression\"\u001b[0m\u001b[1;33m)\u001b[0m\u001b[1;33m:\u001b[0m\u001b[1;33m\u001b[0m\u001b[1;33m\u001b[0m\u001b[0m\n",
            "\u001b[1;32m~\\Anaconda3\\lib\\site-packages\\pandas\\io\\parsers.py\u001b[0m in \u001b[0;36m_open_handles\u001b[1;34m(self, src, kwds)\u001b[0m\n\u001b[0;32m   1360\u001b[0m         \u001b[0mLet\u001b[0m \u001b[0mthe\u001b[0m \u001b[0mreaders\u001b[0m \u001b[0mopen\u001b[0m \u001b[0mIOHanldes\u001b[0m \u001b[0mafter\u001b[0m \u001b[0mthey\u001b[0m \u001b[0mare\u001b[0m \u001b[0mdone\u001b[0m \u001b[1;32mwith\u001b[0m \u001b[0mtheir\u001b[0m \u001b[0mpotential\u001b[0m \u001b[0mraises\u001b[0m\u001b[1;33m.\u001b[0m\u001b[1;33m\u001b[0m\u001b[1;33m\u001b[0m\u001b[0m\n\u001b[0;32m   1361\u001b[0m         \"\"\"\n\u001b[1;32m-> 1362\u001b[1;33m         self.handles = get_handle(\n\u001b[0m\u001b[0;32m   1363\u001b[0m             \u001b[0msrc\u001b[0m\u001b[1;33m,\u001b[0m\u001b[1;33m\u001b[0m\u001b[1;33m\u001b[0m\u001b[0m\n\u001b[0;32m   1364\u001b[0m             \u001b[1;34m\"r\"\u001b[0m\u001b[1;33m,\u001b[0m\u001b[1;33m\u001b[0m\u001b[1;33m\u001b[0m\u001b[0m\n",
            "\u001b[1;32m~\\Anaconda3\\lib\\site-packages\\pandas\\io\\common.py\u001b[0m in \u001b[0;36mget_handle\u001b[1;34m(path_or_buf, mode, encoding, compression, memory_map, is_text, errors, storage_options)\u001b[0m\n\u001b[0;32m    640\u001b[0m                 \u001b[0merrors\u001b[0m \u001b[1;33m=\u001b[0m \u001b[1;34m\"replace\"\u001b[0m\u001b[1;33m\u001b[0m\u001b[1;33m\u001b[0m\u001b[0m\n\u001b[0;32m    641\u001b[0m             \u001b[1;31m# Encoding\u001b[0m\u001b[1;33m\u001b[0m\u001b[1;33m\u001b[0m\u001b[1;33m\u001b[0m\u001b[0m\n\u001b[1;32m--> 642\u001b[1;33m             handle = open(\n\u001b[0m\u001b[0;32m    643\u001b[0m                 \u001b[0mhandle\u001b[0m\u001b[1;33m,\u001b[0m\u001b[1;33m\u001b[0m\u001b[1;33m\u001b[0m\u001b[0m\n\u001b[0;32m    644\u001b[0m                 \u001b[0mioargs\u001b[0m\u001b[1;33m.\u001b[0m\u001b[0mmode\u001b[0m\u001b[1;33m,\u001b[0m\u001b[1;33m\u001b[0m\u001b[1;33m\u001b[0m\u001b[0m\n",
            "\u001b[1;31mFileNotFoundError\u001b[0m: [Errno 2] No such file or directory: './mpg_cated.csv'"
          ]
        }
      ],
      "source": [
        "df = pd.read_csv('./mpg_cated.csv')"
      ]
    },
    {
      "cell_type": "markdown",
      "id": "5191f54c-87c7-4fb0-9557-dbbaadcdf28b",
      "metadata": {
        "tags": [],
        "id": "5191f54c-87c7-4fb0-9557-dbbaadcdf28b"
      },
      "source": [
        "Let's have a look at the data"
      ]
    },
    {
      "cell_type": "code",
      "execution_count": null,
      "id": "6ce93803-9d56-4e61-9d03-3ce32d3917d9",
      "metadata": {
        "id": "6ce93803-9d56-4e61-9d03-3ce32d3917d9",
        "outputId": "d0d3d1cc-433d-4da7-b732-5df6a4d4d77e"
      },
      "outputs": [
        {
          "data": {
            "text/html": [
              "<div>\n",
              "<style scoped>\n",
              "    .dataframe tbody tr th:only-of-type {\n",
              "        vertical-align: middle;\n",
              "    }\n",
              "\n",
              "    .dataframe tbody tr th {\n",
              "        vertical-align: top;\n",
              "    }\n",
              "\n",
              "    .dataframe thead th {\n",
              "        text-align: right;\n",
              "    }\n",
              "</style>\n",
              "<table border=\"1\" class=\"dataframe\">\n",
              "  <thead>\n",
              "    <tr style=\"text-align: right;\">\n",
              "      <th></th>\n",
              "      <th>origin</th>\n",
              "      <th>cylinders</th>\n",
              "      <th>model_year</th>\n",
              "      <th>mpg_level</th>\n",
              "      <th>car_company</th>\n",
              "      <th>mpg</th>\n",
              "      <th>displacement</th>\n",
              "      <th>horsepower</th>\n",
              "      <th>weight</th>\n",
              "      <th>acceleration</th>\n",
              "    </tr>\n",
              "  </thead>\n",
              "  <tbody>\n",
              "    <tr>\n",
              "      <th>0</th>\n",
              "      <td>usa</td>\n",
              "      <td>8</td>\n",
              "      <td>70</td>\n",
              "      <td>medium</td>\n",
              "      <td>chevrolet</td>\n",
              "      <td>18.0</td>\n",
              "      <td>307.0</td>\n",
              "      <td>130.0</td>\n",
              "      <td>3504</td>\n",
              "      <td>12.0</td>\n",
              "    </tr>\n",
              "    <tr>\n",
              "      <th>1</th>\n",
              "      <td>usa</td>\n",
              "      <td>8</td>\n",
              "      <td>70</td>\n",
              "      <td>low</td>\n",
              "      <td>buick</td>\n",
              "      <td>15.0</td>\n",
              "      <td>350.0</td>\n",
              "      <td>165.0</td>\n",
              "      <td>3693</td>\n",
              "      <td>11.5</td>\n",
              "    </tr>\n",
              "    <tr>\n",
              "      <th>2</th>\n",
              "      <td>usa</td>\n",
              "      <td>8</td>\n",
              "      <td>70</td>\n",
              "      <td>medium</td>\n",
              "      <td>plymouth</td>\n",
              "      <td>18.0</td>\n",
              "      <td>318.0</td>\n",
              "      <td>150.0</td>\n",
              "      <td>3436</td>\n",
              "      <td>11.0</td>\n",
              "    </tr>\n",
              "    <tr>\n",
              "      <th>3</th>\n",
              "      <td>usa</td>\n",
              "      <td>8</td>\n",
              "      <td>70</td>\n",
              "      <td>low</td>\n",
              "      <td>amc</td>\n",
              "      <td>16.0</td>\n",
              "      <td>304.0</td>\n",
              "      <td>150.0</td>\n",
              "      <td>3433</td>\n",
              "      <td>12.0</td>\n",
              "    </tr>\n",
              "    <tr>\n",
              "      <th>4</th>\n",
              "      <td>usa</td>\n",
              "      <td>8</td>\n",
              "      <td>70</td>\n",
              "      <td>medium</td>\n",
              "      <td>ford</td>\n",
              "      <td>17.0</td>\n",
              "      <td>302.0</td>\n",
              "      <td>140.0</td>\n",
              "      <td>3449</td>\n",
              "      <td>10.5</td>\n",
              "    </tr>\n",
              "    <tr>\n",
              "      <th>...</th>\n",
              "      <td>...</td>\n",
              "      <td>...</td>\n",
              "      <td>...</td>\n",
              "      <td>...</td>\n",
              "      <td>...</td>\n",
              "      <td>...</td>\n",
              "      <td>...</td>\n",
              "      <td>...</td>\n",
              "      <td>...</td>\n",
              "      <td>...</td>\n",
              "    </tr>\n",
              "    <tr>\n",
              "      <th>387</th>\n",
              "      <td>usa</td>\n",
              "      <td>4</td>\n",
              "      <td>82</td>\n",
              "      <td>medium</td>\n",
              "      <td>ford</td>\n",
              "      <td>27.0</td>\n",
              "      <td>140.0</td>\n",
              "      <td>86.0</td>\n",
              "      <td>2790</td>\n",
              "      <td>15.6</td>\n",
              "    </tr>\n",
              "    <tr>\n",
              "      <th>388</th>\n",
              "      <td>europe</td>\n",
              "      <td>4</td>\n",
              "      <td>82</td>\n",
              "      <td>high</td>\n",
              "      <td>vw</td>\n",
              "      <td>44.0</td>\n",
              "      <td>97.0</td>\n",
              "      <td>52.0</td>\n",
              "      <td>2130</td>\n",
              "      <td>24.6</td>\n",
              "    </tr>\n",
              "    <tr>\n",
              "      <th>389</th>\n",
              "      <td>usa</td>\n",
              "      <td>4</td>\n",
              "      <td>82</td>\n",
              "      <td>high</td>\n",
              "      <td>dodge</td>\n",
              "      <td>32.0</td>\n",
              "      <td>135.0</td>\n",
              "      <td>84.0</td>\n",
              "      <td>2295</td>\n",
              "      <td>11.6</td>\n",
              "    </tr>\n",
              "    <tr>\n",
              "      <th>390</th>\n",
              "      <td>usa</td>\n",
              "      <td>4</td>\n",
              "      <td>82</td>\n",
              "      <td>medium</td>\n",
              "      <td>ford</td>\n",
              "      <td>28.0</td>\n",
              "      <td>120.0</td>\n",
              "      <td>79.0</td>\n",
              "      <td>2625</td>\n",
              "      <td>18.6</td>\n",
              "    </tr>\n",
              "    <tr>\n",
              "      <th>391</th>\n",
              "      <td>usa</td>\n",
              "      <td>4</td>\n",
              "      <td>82</td>\n",
              "      <td>high</td>\n",
              "      <td>chevy</td>\n",
              "      <td>31.0</td>\n",
              "      <td>119.0</td>\n",
              "      <td>82.0</td>\n",
              "      <td>2720</td>\n",
              "      <td>19.4</td>\n",
              "    </tr>\n",
              "  </tbody>\n",
              "</table>\n",
              "<p>392 rows × 10 columns</p>\n",
              "</div>"
            ],
            "text/plain": [
              "     origin  cylinders  model_year mpg_level car_company   mpg  displacement  \\\n",
              "0       usa          8          70    medium   chevrolet  18.0         307.0   \n",
              "1       usa          8          70       low       buick  15.0         350.0   \n",
              "2       usa          8          70    medium    plymouth  18.0         318.0   \n",
              "3       usa          8          70       low         amc  16.0         304.0   \n",
              "4       usa          8          70    medium        ford  17.0         302.0   \n",
              "..      ...        ...         ...       ...         ...   ...           ...   \n",
              "387     usa          4          82    medium        ford  27.0         140.0   \n",
              "388  europe          4          82      high          vw  44.0          97.0   \n",
              "389     usa          4          82      high       dodge  32.0         135.0   \n",
              "390     usa          4          82    medium        ford  28.0         120.0   \n",
              "391     usa          4          82      high       chevy  31.0         119.0   \n",
              "\n",
              "     horsepower  weight  acceleration  \n",
              "0         130.0    3504          12.0  \n",
              "1         165.0    3693          11.5  \n",
              "2         150.0    3436          11.0  \n",
              "3         150.0    3433          12.0  \n",
              "4         140.0    3449          10.5  \n",
              "..          ...     ...           ...  \n",
              "387        86.0    2790          15.6  \n",
              "388        52.0    2130          24.6  \n",
              "389        84.0    2295          11.6  \n",
              "390        79.0    2625          18.6  \n",
              "391        82.0    2720          19.4  \n",
              "\n",
              "[392 rows x 10 columns]"
            ]
          },
          "execution_count": 5,
          "metadata": {},
          "output_type": "execute_result"
        }
      ],
      "source": [
        "df"
      ]
    },
    {
      "cell_type": "markdown",
      "id": "8527ecec-23b8-49f2-bcca-b90853472a8b",
      "metadata": {
        "id": "8527ecec-23b8-49f2-bcca-b90853472a8b"
      },
      "source": [
        "**Q: What do we learn from this look?**"
      ]
    },
    {
      "cell_type": "code",
      "execution_count": null,
      "id": "e8945876",
      "metadata": {
        "id": "e8945876"
      },
      "outputs": [],
      "source": [
        "# if you want to you can write it in here:\n"
      ]
    },
    {
      "cell_type": "markdown",
      "id": "b22625ba-344b-40c2-b2ad-3aadc5830e52",
      "metadata": {
        "id": "b22625ba-344b-40c2-b2ad-3aadc5830e52"
      },
      "source": [
        "Here are a few useful commands for exploring the basic data:"
      ]
    },
    {
      "cell_type": "code",
      "execution_count": null,
      "id": "3f67d321-d6fe-4bbd-aec9-2683c0deae5c",
      "metadata": {
        "id": "3f67d321-d6fe-4bbd-aec9-2683c0deae5c",
        "outputId": "d09664a6-0d8b-4c5d-f1be-f0ac51bb8032"
      },
      "outputs": [
        {
          "data": {
            "text/html": [
              "<div>\n",
              "<style scoped>\n",
              "    .dataframe tbody tr th:only-of-type {\n",
              "        vertical-align: middle;\n",
              "    }\n",
              "\n",
              "    .dataframe tbody tr th {\n",
              "        vertical-align: top;\n",
              "    }\n",
              "\n",
              "    .dataframe thead th {\n",
              "        text-align: right;\n",
              "    }\n",
              "</style>\n",
              "<table border=\"1\" class=\"dataframe\">\n",
              "  <thead>\n",
              "    <tr style=\"text-align: right;\">\n",
              "      <th></th>\n",
              "      <th>origin</th>\n",
              "      <th>cylinders</th>\n",
              "      <th>model_year</th>\n",
              "      <th>mpg_level</th>\n",
              "      <th>car_company</th>\n",
              "      <th>mpg</th>\n",
              "      <th>displacement</th>\n",
              "      <th>horsepower</th>\n",
              "      <th>weight</th>\n",
              "      <th>acceleration</th>\n",
              "    </tr>\n",
              "  </thead>\n",
              "  <tbody>\n",
              "    <tr>\n",
              "      <th>0</th>\n",
              "      <td>usa</td>\n",
              "      <td>8</td>\n",
              "      <td>70</td>\n",
              "      <td>medium</td>\n",
              "      <td>chevrolet</td>\n",
              "      <td>18.0</td>\n",
              "      <td>307.0</td>\n",
              "      <td>130.0</td>\n",
              "      <td>3504</td>\n",
              "      <td>12.0</td>\n",
              "    </tr>\n",
              "    <tr>\n",
              "      <th>1</th>\n",
              "      <td>usa</td>\n",
              "      <td>8</td>\n",
              "      <td>70</td>\n",
              "      <td>low</td>\n",
              "      <td>buick</td>\n",
              "      <td>15.0</td>\n",
              "      <td>350.0</td>\n",
              "      <td>165.0</td>\n",
              "      <td>3693</td>\n",
              "      <td>11.5</td>\n",
              "    </tr>\n",
              "    <tr>\n",
              "      <th>2</th>\n",
              "      <td>usa</td>\n",
              "      <td>8</td>\n",
              "      <td>70</td>\n",
              "      <td>medium</td>\n",
              "      <td>plymouth</td>\n",
              "      <td>18.0</td>\n",
              "      <td>318.0</td>\n",
              "      <td>150.0</td>\n",
              "      <td>3436</td>\n",
              "      <td>11.0</td>\n",
              "    </tr>\n",
              "    <tr>\n",
              "      <th>3</th>\n",
              "      <td>usa</td>\n",
              "      <td>8</td>\n",
              "      <td>70</td>\n",
              "      <td>low</td>\n",
              "      <td>amc</td>\n",
              "      <td>16.0</td>\n",
              "      <td>304.0</td>\n",
              "      <td>150.0</td>\n",
              "      <td>3433</td>\n",
              "      <td>12.0</td>\n",
              "    </tr>\n",
              "    <tr>\n",
              "      <th>4</th>\n",
              "      <td>usa</td>\n",
              "      <td>8</td>\n",
              "      <td>70</td>\n",
              "      <td>medium</td>\n",
              "      <td>ford</td>\n",
              "      <td>17.0</td>\n",
              "      <td>302.0</td>\n",
              "      <td>140.0</td>\n",
              "      <td>3449</td>\n",
              "      <td>10.5</td>\n",
              "    </tr>\n",
              "  </tbody>\n",
              "</table>\n",
              "</div>"
            ],
            "text/plain": [
              "  origin  cylinders  model_year mpg_level car_company   mpg  displacement  \\\n",
              "0    usa          8          70    medium   chevrolet  18.0         307.0   \n",
              "1    usa          8          70       low       buick  15.0         350.0   \n",
              "2    usa          8          70    medium    plymouth  18.0         318.0   \n",
              "3    usa          8          70       low         amc  16.0         304.0   \n",
              "4    usa          8          70    medium        ford  17.0         302.0   \n",
              "\n",
              "   horsepower  weight  acceleration  \n",
              "0       130.0    3504          12.0  \n",
              "1       165.0    3693          11.5  \n",
              "2       150.0    3436          11.0  \n",
              "3       150.0    3433          12.0  \n",
              "4       140.0    3449          10.5  "
            ]
          },
          "execution_count": 7,
          "metadata": {},
          "output_type": "execute_result"
        }
      ],
      "source": [
        "# This will display the first couple of rows\n",
        "df.head()"
      ]
    },
    {
      "cell_type": "code",
      "execution_count": null,
      "id": "1c563710-6c62-44ab-8b49-4c79f1f2e6a9",
      "metadata": {
        "id": "1c563710-6c62-44ab-8b49-4c79f1f2e6a9",
        "outputId": "edd47325-369e-43e1-c594-a0afd17785b8"
      },
      "outputs": [
        {
          "data": {
            "text/plain": [
              "(392, 10)"
            ]
          },
          "execution_count": 8,
          "metadata": {},
          "output_type": "execute_result"
        }
      ],
      "source": [
        "# This will give you the dimension of the data\n",
        "df.shape"
      ]
    },
    {
      "cell_type": "markdown",
      "id": "ede2c560-2205-4d85-9c11-ebb7ea997cae",
      "metadata": {
        "id": "ede2c560-2205-4d85-9c11-ebb7ea997cae"
      },
      "source": [
        "## Selecting Data\n",
        "\n",
        "Dataframes can be very big and can also have many colums, so sometimes we just want to select a small portion of the dataframe.\n",
        "\n",
        "For example, we can select only the `origin` column."
      ]
    },
    {
      "cell_type": "code",
      "execution_count": null,
      "id": "5615669e-96b2-4f5e-953f-b0527b5f2c97",
      "metadata": {
        "id": "5615669e-96b2-4f5e-953f-b0527b5f2c97",
        "outputId": "04a41c41-f2dc-49b9-a80e-275873753e66"
      },
      "outputs": [
        {
          "data": {
            "text/plain": [
              "0         usa\n",
              "1         usa\n",
              "2         usa\n",
              "3         usa\n",
              "4         usa\n",
              "        ...  \n",
              "387       usa\n",
              "388    europe\n",
              "389       usa\n",
              "390       usa\n",
              "391       usa\n",
              "Name: origin, Length: 392, dtype: object"
            ]
          },
          "execution_count": 9,
          "metadata": {},
          "output_type": "execute_result"
        }
      ],
      "source": [
        "df['origin']"
      ]
    },
    {
      "cell_type": "code",
      "execution_count": null,
      "id": "6f3fa4cf-f109-4ba6-8d23-9caa528f30fe",
      "metadata": {
        "id": "6f3fa4cf-f109-4ba6-8d23-9caa528f30fe",
        "outputId": "ebac1ade-03b0-44af-b9fd-16a1d7b4b3bd"
      },
      "outputs": [
        {
          "data": {
            "text/html": [
              "<div>\n",
              "<style scoped>\n",
              "    .dataframe tbody tr th:only-of-type {\n",
              "        vertical-align: middle;\n",
              "    }\n",
              "\n",
              "    .dataframe tbody tr th {\n",
              "        vertical-align: top;\n",
              "    }\n",
              "\n",
              "    .dataframe thead th {\n",
              "        text-align: right;\n",
              "    }\n",
              "</style>\n",
              "<table border=\"1\" class=\"dataframe\">\n",
              "  <thead>\n",
              "    <tr style=\"text-align: right;\">\n",
              "      <th></th>\n",
              "      <th>mpg</th>\n",
              "      <th>horsepower</th>\n",
              "    </tr>\n",
              "  </thead>\n",
              "  <tbody>\n",
              "    <tr>\n",
              "      <th>0</th>\n",
              "      <td>18.0</td>\n",
              "      <td>130.0</td>\n",
              "    </tr>\n",
              "    <tr>\n",
              "      <th>1</th>\n",
              "      <td>15.0</td>\n",
              "      <td>165.0</td>\n",
              "    </tr>\n",
              "    <tr>\n",
              "      <th>2</th>\n",
              "      <td>18.0</td>\n",
              "      <td>150.0</td>\n",
              "    </tr>\n",
              "    <tr>\n",
              "      <th>3</th>\n",
              "      <td>16.0</td>\n",
              "      <td>150.0</td>\n",
              "    </tr>\n",
              "    <tr>\n",
              "      <th>4</th>\n",
              "      <td>17.0</td>\n",
              "      <td>140.0</td>\n",
              "    </tr>\n",
              "    <tr>\n",
              "      <th>...</th>\n",
              "      <td>...</td>\n",
              "      <td>...</td>\n",
              "    </tr>\n",
              "    <tr>\n",
              "      <th>387</th>\n",
              "      <td>27.0</td>\n",
              "      <td>86.0</td>\n",
              "    </tr>\n",
              "    <tr>\n",
              "      <th>388</th>\n",
              "      <td>44.0</td>\n",
              "      <td>52.0</td>\n",
              "    </tr>\n",
              "    <tr>\n",
              "      <th>389</th>\n",
              "      <td>32.0</td>\n",
              "      <td>84.0</td>\n",
              "    </tr>\n",
              "    <tr>\n",
              "      <th>390</th>\n",
              "      <td>28.0</td>\n",
              "      <td>79.0</td>\n",
              "    </tr>\n",
              "    <tr>\n",
              "      <th>391</th>\n",
              "      <td>31.0</td>\n",
              "      <td>82.0</td>\n",
              "    </tr>\n",
              "  </tbody>\n",
              "</table>\n",
              "<p>392 rows × 2 columns</p>\n",
              "</div>"
            ],
            "text/plain": [
              "      mpg  horsepower\n",
              "0    18.0       130.0\n",
              "1    15.0       165.0\n",
              "2    18.0       150.0\n",
              "3    16.0       150.0\n",
              "4    17.0       140.0\n",
              "..    ...         ...\n",
              "387  27.0        86.0\n",
              "388  44.0        52.0\n",
              "389  32.0        84.0\n",
              "390  28.0        79.0\n",
              "391  31.0        82.0\n",
              "\n",
              "[392 rows x 2 columns]"
            ]
          },
          "execution_count": 10,
          "metadata": {},
          "output_type": "execute_result"
        }
      ],
      "source": [
        "# more than one column is selected like this\n",
        "df[['mpg', 'horsepower']]"
      ]
    },
    {
      "cell_type": "markdown",
      "id": "5f0a697b-862c-4471-a8f2-07ed00f94317",
      "metadata": {
        "id": "5f0a697b-862c-4471-a8f2-07ed00f94317"
      },
      "source": [
        "Getting the value counts for categorical variables is also useful."
      ]
    },
    {
      "cell_type": "code",
      "execution_count": null,
      "id": "f965d2fd-b910-47d2-a417-e80c6dc4c72a",
      "metadata": {
        "id": "f965d2fd-b910-47d2-a417-e80c6dc4c72a",
        "outputId": "6f23676d-8626-4a89-f247-a0bfb0dc5a67"
      },
      "outputs": [
        {
          "data": {
            "text/plain": [
              "origin  cylinders\n",
              "usa     8            103\n",
              "        6             73\n",
              "japan   4             69\n",
              "usa     4             69\n",
              "europe  4             61\n",
              "japan   6              6\n",
              "europe  6              4\n",
              "japan   3              4\n",
              "europe  5              3\n",
              "dtype: int64"
            ]
          },
          "execution_count": 11,
          "metadata": {},
          "output_type": "execute_result"
        }
      ],
      "source": [
        "df[['origin','cylinders']].value_counts()"
      ]
    },
    {
      "cell_type": "markdown",
      "id": "eb8aa101-0731-466b-a0f0-a720017e9eaa",
      "metadata": {
        "id": "eb8aa101-0731-466b-a0f0-a720017e9eaa"
      },
      "source": [
        "**Q: What is being displayed here?**\n",
        "\n",
        "**Q: What happens if you try this for continuous variables?**"
      ]
    },
    {
      "cell_type": "code",
      "execution_count": null,
      "id": "54a6facd-85cf-4912-8327-c2663aebc879",
      "metadata": {
        "id": "54a6facd-85cf-4912-8327-c2663aebc879"
      },
      "outputs": [],
      "source": [
        "## Try it out for the mpg and displacement columns. Is this information useful?\n",
        "\n"
      ]
    },
    {
      "cell_type": "markdown",
      "id": "849db6e9-795a-4c24-9e08-56e88ccc0fc9",
      "metadata": {
        "id": "849db6e9-795a-4c24-9e08-56e88ccc0fc9"
      },
      "source": [
        "# Most basic descriptive statistics\n",
        "\n",
        "We can also generate some very basic descriptive statistics by using panda's `.describe()`"
      ]
    },
    {
      "cell_type": "code",
      "execution_count": null,
      "id": "7fdd86f6-4043-4dcf-b864-01c9b9053f1d",
      "metadata": {
        "id": "7fdd86f6-4043-4dcf-b864-01c9b9053f1d",
        "outputId": "960bbd52-f5ec-4ee7-a4a4-62a4fb0c1c2b"
      },
      "outputs": [
        {
          "data": {
            "text/html": [
              "<div>\n",
              "<style scoped>\n",
              "    .dataframe tbody tr th:only-of-type {\n",
              "        vertical-align: middle;\n",
              "    }\n",
              "\n",
              "    .dataframe tbody tr th {\n",
              "        vertical-align: top;\n",
              "    }\n",
              "\n",
              "    .dataframe thead th {\n",
              "        text-align: right;\n",
              "    }\n",
              "</style>\n",
              "<table border=\"1\" class=\"dataframe\">\n",
              "  <thead>\n",
              "    <tr style=\"text-align: right;\">\n",
              "      <th></th>\n",
              "      <th>cylinders</th>\n",
              "      <th>model_year</th>\n",
              "      <th>mpg</th>\n",
              "      <th>displacement</th>\n",
              "      <th>horsepower</th>\n",
              "      <th>weight</th>\n",
              "      <th>acceleration</th>\n",
              "    </tr>\n",
              "  </thead>\n",
              "  <tbody>\n",
              "    <tr>\n",
              "      <th>count</th>\n",
              "      <td>392.000000</td>\n",
              "      <td>392.000000</td>\n",
              "      <td>392.000000</td>\n",
              "      <td>392.000000</td>\n",
              "      <td>392.000000</td>\n",
              "      <td>392.000000</td>\n",
              "      <td>392.000000</td>\n",
              "    </tr>\n",
              "    <tr>\n",
              "      <th>mean</th>\n",
              "      <td>5.471939</td>\n",
              "      <td>75.979592</td>\n",
              "      <td>23.445918</td>\n",
              "      <td>194.411990</td>\n",
              "      <td>104.469388</td>\n",
              "      <td>2977.584184</td>\n",
              "      <td>15.541327</td>\n",
              "    </tr>\n",
              "    <tr>\n",
              "      <th>std</th>\n",
              "      <td>1.705783</td>\n",
              "      <td>3.683737</td>\n",
              "      <td>7.805007</td>\n",
              "      <td>104.644004</td>\n",
              "      <td>38.491160</td>\n",
              "      <td>849.402560</td>\n",
              "      <td>2.758864</td>\n",
              "    </tr>\n",
              "    <tr>\n",
              "      <th>min</th>\n",
              "      <td>3.000000</td>\n",
              "      <td>70.000000</td>\n",
              "      <td>9.000000</td>\n",
              "      <td>68.000000</td>\n",
              "      <td>46.000000</td>\n",
              "      <td>1613.000000</td>\n",
              "      <td>8.000000</td>\n",
              "    </tr>\n",
              "    <tr>\n",
              "      <th>25%</th>\n",
              "      <td>4.000000</td>\n",
              "      <td>73.000000</td>\n",
              "      <td>17.000000</td>\n",
              "      <td>105.000000</td>\n",
              "      <td>75.000000</td>\n",
              "      <td>2225.250000</td>\n",
              "      <td>13.775000</td>\n",
              "    </tr>\n",
              "    <tr>\n",
              "      <th>50%</th>\n",
              "      <td>4.000000</td>\n",
              "      <td>76.000000</td>\n",
              "      <td>22.750000</td>\n",
              "      <td>151.000000</td>\n",
              "      <td>93.500000</td>\n",
              "      <td>2803.500000</td>\n",
              "      <td>15.500000</td>\n",
              "    </tr>\n",
              "    <tr>\n",
              "      <th>75%</th>\n",
              "      <td>8.000000</td>\n",
              "      <td>79.000000</td>\n",
              "      <td>29.000000</td>\n",
              "      <td>275.750000</td>\n",
              "      <td>126.000000</td>\n",
              "      <td>3614.750000</td>\n",
              "      <td>17.025000</td>\n",
              "    </tr>\n",
              "    <tr>\n",
              "      <th>max</th>\n",
              "      <td>8.000000</td>\n",
              "      <td>82.000000</td>\n",
              "      <td>46.600000</td>\n",
              "      <td>455.000000</td>\n",
              "      <td>230.000000</td>\n",
              "      <td>5140.000000</td>\n",
              "      <td>24.800000</td>\n",
              "    </tr>\n",
              "  </tbody>\n",
              "</table>\n",
              "</div>"
            ],
            "text/plain": [
              "        cylinders  model_year         mpg  displacement  horsepower  \\\n",
              "count  392.000000  392.000000  392.000000    392.000000  392.000000   \n",
              "mean     5.471939   75.979592   23.445918    194.411990  104.469388   \n",
              "std      1.705783    3.683737    7.805007    104.644004   38.491160   \n",
              "min      3.000000   70.000000    9.000000     68.000000   46.000000   \n",
              "25%      4.000000   73.000000   17.000000    105.000000   75.000000   \n",
              "50%      4.000000   76.000000   22.750000    151.000000   93.500000   \n",
              "75%      8.000000   79.000000   29.000000    275.750000  126.000000   \n",
              "max      8.000000   82.000000   46.600000    455.000000  230.000000   \n",
              "\n",
              "            weight  acceleration  \n",
              "count   392.000000    392.000000  \n",
              "mean   2977.584184     15.541327  \n",
              "std     849.402560      2.758864  \n",
              "min    1613.000000      8.000000  \n",
              "25%    2225.250000     13.775000  \n",
              "50%    2803.500000     15.500000  \n",
              "75%    3614.750000     17.025000  \n",
              "max    5140.000000     24.800000  "
            ]
          },
          "execution_count": 13,
          "metadata": {},
          "output_type": "execute_result"
        }
      ],
      "source": [
        "df.describe()"
      ]
    },
    {
      "cell_type": "markdown",
      "id": "5589c548-5540-42d4-9f5f-6c4bbcc7e8ff",
      "metadata": {
        "id": "5589c548-5540-42d4-9f5f-6c4bbcc7e8ff"
      },
      "source": [
        "**Q: What do you notice?**"
      ]
    },
    {
      "cell_type": "markdown",
      "id": "a0939ee7-9191-4039-aecd-a7f98091758c",
      "metadata": {
        "id": "a0939ee7-9191-4039-aecd-a7f98091758c"
      },
      "source": [
        "Sometimes, we are only interested in a few statistics and we can calculate these directly."
      ]
    },
    {
      "cell_type": "code",
      "execution_count": null,
      "id": "6865bde5-6980-4bc4-ab5d-604ee169f91d",
      "metadata": {
        "id": "6865bde5-6980-4bc4-ab5d-604ee169f91d",
        "outputId": "84ccafdf-79bd-405f-d916-518ace57c608"
      },
      "outputs": [
        {
          "data": {
            "text/plain": [
              "23.44591836734694"
            ]
          },
          "execution_count": 14,
          "metadata": {},
          "output_type": "execute_result"
        }
      ],
      "source": [
        "# Here is an example:\n",
        "df['mpg'].mean()"
      ]
    },
    {
      "cell_type": "code",
      "execution_count": null,
      "id": "864a9699-7cb6-4b06-b0cb-d1bed0947598",
      "metadata": {
        "id": "864a9699-7cb6-4b06-b0cb-d1bed0947598"
      },
      "outputs": [],
      "source": [
        "# Try calculating the sum (hint: .sum()); median; minimum (min), maximum (max) in this cell:\n",
        "\n"
      ]
    },
    {
      "cell_type": "markdown",
      "id": "27a9c345",
      "metadata": {
        "id": "27a9c345"
      },
      "source": [
        "## Creating New Columns and Doing Math\n",
        "\n",
        "Data analysis required data manipulation and storing the results.\n",
        "\n",
        "For example, we might want convert the weight of the car from pounds to kg like this.\n"
      ]
    },
    {
      "cell_type": "code",
      "execution_count": null,
      "id": "93350680",
      "metadata": {
        "id": "93350680",
        "outputId": "363a26ec-f075-41d4-9acd-f6443834af22"
      },
      "outputs": [
        {
          "data": {
            "text/html": [
              "<div>\n",
              "<style scoped>\n",
              "    .dataframe tbody tr th:only-of-type {\n",
              "        vertical-align: middle;\n",
              "    }\n",
              "\n",
              "    .dataframe tbody tr th {\n",
              "        vertical-align: top;\n",
              "    }\n",
              "\n",
              "    .dataframe thead th {\n",
              "        text-align: right;\n",
              "    }\n",
              "</style>\n",
              "<table border=\"1\" class=\"dataframe\">\n",
              "  <thead>\n",
              "    <tr style=\"text-align: right;\">\n",
              "      <th></th>\n",
              "      <th>origin</th>\n",
              "      <th>cylinders</th>\n",
              "      <th>model_year</th>\n",
              "      <th>mpg_level</th>\n",
              "      <th>car_company</th>\n",
              "      <th>mpg</th>\n",
              "      <th>displacement</th>\n",
              "      <th>horsepower</th>\n",
              "      <th>weight</th>\n",
              "      <th>acceleration</th>\n",
              "      <th>weight_kg</th>\n",
              "    </tr>\n",
              "  </thead>\n",
              "  <tbody>\n",
              "    <tr>\n",
              "      <th>0</th>\n",
              "      <td>usa</td>\n",
              "      <td>8</td>\n",
              "      <td>70</td>\n",
              "      <td>medium</td>\n",
              "      <td>chevrolet</td>\n",
              "      <td>18.0</td>\n",
              "      <td>307.0</td>\n",
              "      <td>130.0</td>\n",
              "      <td>3504</td>\n",
              "      <td>12.0</td>\n",
              "      <td>1590.816</td>\n",
              "    </tr>\n",
              "    <tr>\n",
              "      <th>1</th>\n",
              "      <td>usa</td>\n",
              "      <td>8</td>\n",
              "      <td>70</td>\n",
              "      <td>low</td>\n",
              "      <td>buick</td>\n",
              "      <td>15.0</td>\n",
              "      <td>350.0</td>\n",
              "      <td>165.0</td>\n",
              "      <td>3693</td>\n",
              "      <td>11.5</td>\n",
              "      <td>1676.622</td>\n",
              "    </tr>\n",
              "    <tr>\n",
              "      <th>2</th>\n",
              "      <td>usa</td>\n",
              "      <td>8</td>\n",
              "      <td>70</td>\n",
              "      <td>medium</td>\n",
              "      <td>plymouth</td>\n",
              "      <td>18.0</td>\n",
              "      <td>318.0</td>\n",
              "      <td>150.0</td>\n",
              "      <td>3436</td>\n",
              "      <td>11.0</td>\n",
              "      <td>1559.944</td>\n",
              "    </tr>\n",
              "    <tr>\n",
              "      <th>3</th>\n",
              "      <td>usa</td>\n",
              "      <td>8</td>\n",
              "      <td>70</td>\n",
              "      <td>low</td>\n",
              "      <td>amc</td>\n",
              "      <td>16.0</td>\n",
              "      <td>304.0</td>\n",
              "      <td>150.0</td>\n",
              "      <td>3433</td>\n",
              "      <td>12.0</td>\n",
              "      <td>1558.582</td>\n",
              "    </tr>\n",
              "    <tr>\n",
              "      <th>4</th>\n",
              "      <td>usa</td>\n",
              "      <td>8</td>\n",
              "      <td>70</td>\n",
              "      <td>medium</td>\n",
              "      <td>ford</td>\n",
              "      <td>17.0</td>\n",
              "      <td>302.0</td>\n",
              "      <td>140.0</td>\n",
              "      <td>3449</td>\n",
              "      <td>10.5</td>\n",
              "      <td>1565.846</td>\n",
              "    </tr>\n",
              "  </tbody>\n",
              "</table>\n",
              "</div>"
            ],
            "text/plain": [
              "  origin  cylinders  model_year mpg_level car_company   mpg  displacement  \\\n",
              "0    usa          8          70    medium   chevrolet  18.0         307.0   \n",
              "1    usa          8          70       low       buick  15.0         350.0   \n",
              "2    usa          8          70    medium    plymouth  18.0         318.0   \n",
              "3    usa          8          70       low         amc  16.0         304.0   \n",
              "4    usa          8          70    medium        ford  17.0         302.0   \n",
              "\n",
              "   horsepower  weight  acceleration  weight_kg  \n",
              "0       130.0    3504          12.0   1590.816  \n",
              "1       165.0    3693          11.5   1676.622  \n",
              "2       150.0    3436          11.0   1559.944  \n",
              "3       150.0    3433          12.0   1558.582  \n",
              "4       140.0    3449          10.5   1565.846  "
            ]
          },
          "execution_count": 16,
          "metadata": {},
          "output_type": "execute_result"
        }
      ],
      "source": [
        "df['weight_kg']=df['weight']*0.454 # There are 0.454 lbs in a kg\n",
        "df.head()"
      ]
    },
    {
      "cell_type": "markdown",
      "id": "b4ba9c0a",
      "metadata": {
        "id": "b4ba9c0a"
      },
      "source": [
        "You can even use your calculated statistics to for example find the deviation from the mean."
      ]
    },
    {
      "cell_type": "code",
      "execution_count": null,
      "id": "6b2744ee",
      "metadata": {
        "id": "6b2744ee",
        "outputId": "7a368dd1-2d0a-4f8e-ec81-35f4390dc9c6"
      },
      "outputs": [
        {
          "name": "stdout",
          "output_type": "stream",
          "text": [
            "The mean value is: 1351.823219387756\n"
          ]
        },
        {
          "data": {
            "text/html": [
              "<div>\n",
              "<style scoped>\n",
              "    .dataframe tbody tr th:only-of-type {\n",
              "        vertical-align: middle;\n",
              "    }\n",
              "\n",
              "    .dataframe tbody tr th {\n",
              "        vertical-align: top;\n",
              "    }\n",
              "\n",
              "    .dataframe thead th {\n",
              "        text-align: right;\n",
              "    }\n",
              "</style>\n",
              "<table border=\"1\" class=\"dataframe\">\n",
              "  <thead>\n",
              "    <tr style=\"text-align: right;\">\n",
              "      <th></th>\n",
              "      <th>origin</th>\n",
              "      <th>cylinders</th>\n",
              "      <th>model_year</th>\n",
              "      <th>mpg_level</th>\n",
              "      <th>car_company</th>\n",
              "      <th>mpg</th>\n",
              "      <th>displacement</th>\n",
              "      <th>horsepower</th>\n",
              "      <th>weight</th>\n",
              "      <th>acceleration</th>\n",
              "      <th>weight_kg</th>\n",
              "      <th>weight_kg_deviation</th>\n",
              "    </tr>\n",
              "  </thead>\n",
              "  <tbody>\n",
              "    <tr>\n",
              "      <th>0</th>\n",
              "      <td>usa</td>\n",
              "      <td>8</td>\n",
              "      <td>70</td>\n",
              "      <td>medium</td>\n",
              "      <td>chevrolet</td>\n",
              "      <td>18.0</td>\n",
              "      <td>307.0</td>\n",
              "      <td>130.0</td>\n",
              "      <td>3504</td>\n",
              "      <td>12.0</td>\n",
              "      <td>1590.816</td>\n",
              "      <td>238.992781</td>\n",
              "    </tr>\n",
              "    <tr>\n",
              "      <th>1</th>\n",
              "      <td>usa</td>\n",
              "      <td>8</td>\n",
              "      <td>70</td>\n",
              "      <td>low</td>\n",
              "      <td>buick</td>\n",
              "      <td>15.0</td>\n",
              "      <td>350.0</td>\n",
              "      <td>165.0</td>\n",
              "      <td>3693</td>\n",
              "      <td>11.5</td>\n",
              "      <td>1676.622</td>\n",
              "      <td>324.798781</td>\n",
              "    </tr>\n",
              "    <tr>\n",
              "      <th>2</th>\n",
              "      <td>usa</td>\n",
              "      <td>8</td>\n",
              "      <td>70</td>\n",
              "      <td>medium</td>\n",
              "      <td>plymouth</td>\n",
              "      <td>18.0</td>\n",
              "      <td>318.0</td>\n",
              "      <td>150.0</td>\n",
              "      <td>3436</td>\n",
              "      <td>11.0</td>\n",
              "      <td>1559.944</td>\n",
              "      <td>208.120781</td>\n",
              "    </tr>\n",
              "    <tr>\n",
              "      <th>3</th>\n",
              "      <td>usa</td>\n",
              "      <td>8</td>\n",
              "      <td>70</td>\n",
              "      <td>low</td>\n",
              "      <td>amc</td>\n",
              "      <td>16.0</td>\n",
              "      <td>304.0</td>\n",
              "      <td>150.0</td>\n",
              "      <td>3433</td>\n",
              "      <td>12.0</td>\n",
              "      <td>1558.582</td>\n",
              "      <td>206.758781</td>\n",
              "    </tr>\n",
              "    <tr>\n",
              "      <th>4</th>\n",
              "      <td>usa</td>\n",
              "      <td>8</td>\n",
              "      <td>70</td>\n",
              "      <td>medium</td>\n",
              "      <td>ford</td>\n",
              "      <td>17.0</td>\n",
              "      <td>302.0</td>\n",
              "      <td>140.0</td>\n",
              "      <td>3449</td>\n",
              "      <td>10.5</td>\n",
              "      <td>1565.846</td>\n",
              "      <td>214.022781</td>\n",
              "    </tr>\n",
              "  </tbody>\n",
              "</table>\n",
              "</div>"
            ],
            "text/plain": [
              "  origin  cylinders  model_year mpg_level car_company   mpg  displacement  \\\n",
              "0    usa          8          70    medium   chevrolet  18.0         307.0   \n",
              "1    usa          8          70       low       buick  15.0         350.0   \n",
              "2    usa          8          70    medium    plymouth  18.0         318.0   \n",
              "3    usa          8          70       low         amc  16.0         304.0   \n",
              "4    usa          8          70    medium        ford  17.0         302.0   \n",
              "\n",
              "   horsepower  weight  acceleration  weight_kg  weight_kg_deviation  \n",
              "0       130.0    3504          12.0   1590.816           238.992781  \n",
              "1       165.0    3693          11.5   1676.622           324.798781  \n",
              "2       150.0    3436          11.0   1559.944           208.120781  \n",
              "3       150.0    3433          12.0   1558.582           206.758781  \n",
              "4       140.0    3449          10.5   1565.846           214.022781  "
            ]
          },
          "execution_count": 18,
          "metadata": {},
          "output_type": "execute_result"
        }
      ],
      "source": [
        "df['weight_kg_deviation']=df['weight_kg']-df['weight_kg'].mean()\n",
        "print('The mean value is:', df['weight_kg'].mean())\n",
        "df.head()\n",
        "# It looks like the US cars that we see are heaver than average, but we cannot be sure from a few data points."
      ]
    },
    {
      "cell_type": "markdown",
      "id": "1f207866-c5e7-4607-95e8-004d9c037237",
      "metadata": {
        "id": "1f207866-c5e7-4607-95e8-004d9c037237"
      },
      "source": [
        "## A first attempt at data analysis\n",
        "\n",
        "Maybe we want to find out how US and European cars compare in terms of gas milage. Let's find out. For this we have to learn how to select only the europan and us cars. Luckily pandas can easily do this, because it understands conditionals (you should remember these from your programming class)."
      ]
    },
    {
      "cell_type": "code",
      "execution_count": null,
      "id": "645e8639-829c-4302-8158-4380348a0f06",
      "metadata": {
        "id": "645e8639-829c-4302-8158-4380348a0f06",
        "outputId": "d320a19c-f20e-4b07-e6dc-442286691b59"
      },
      "outputs": [
        {
          "data": {
            "text/plain": [
              "0      False\n",
              "1      False\n",
              "2      False\n",
              "3      False\n",
              "4      False\n",
              "       ...  \n",
              "387    False\n",
              "388     True\n",
              "389    False\n",
              "390    False\n",
              "391    False\n",
              "Name: origin, Length: 392, dtype: bool"
            ]
          },
          "execution_count": 30,
          "metadata": {},
          "output_type": "execute_result"
        }
      ],
      "source": [
        "df['origin']== 'europe'"
      ]
    },
    {
      "cell_type": "code",
      "execution_count": null,
      "id": "3bb850d4-3687-456a-af5e-79a2ceb1b86d",
      "metadata": {
        "id": "3bb850d4-3687-456a-af5e-79a2ceb1b86d",
        "outputId": "2287ebd6-ffd8-4a33-a380-5abdbcb5d90f"
      },
      "outputs": [
        {
          "data": {
            "text/html": [
              "<div>\n",
              "<style scoped>\n",
              "    .dataframe tbody tr th:only-of-type {\n",
              "        vertical-align: middle;\n",
              "    }\n",
              "\n",
              "    .dataframe tbody tr th {\n",
              "        vertical-align: top;\n",
              "    }\n",
              "\n",
              "    .dataframe thead th {\n",
              "        text-align: right;\n",
              "    }\n",
              "</style>\n",
              "<table border=\"1\" class=\"dataframe\">\n",
              "  <thead>\n",
              "    <tr style=\"text-align: right;\">\n",
              "      <th></th>\n",
              "      <th>origin</th>\n",
              "      <th>cylinders</th>\n",
              "      <th>model_year</th>\n",
              "      <th>mpg_level</th>\n",
              "      <th>car_company</th>\n",
              "      <th>mpg</th>\n",
              "      <th>displacement</th>\n",
              "      <th>horsepower</th>\n",
              "      <th>weight</th>\n",
              "      <th>acceleration</th>\n",
              "    </tr>\n",
              "  </thead>\n",
              "  <tbody>\n",
              "    <tr>\n",
              "      <th>19</th>\n",
              "      <td>europe</td>\n",
              "      <td>4</td>\n",
              "      <td>70</td>\n",
              "      <td>medium</td>\n",
              "      <td>volkswagen</td>\n",
              "      <td>26.0</td>\n",
              "      <td>97.0</td>\n",
              "      <td>46.0</td>\n",
              "      <td>1835</td>\n",
              "      <td>20.5</td>\n",
              "    </tr>\n",
              "    <tr>\n",
              "      <th>20</th>\n",
              "      <td>europe</td>\n",
              "      <td>4</td>\n",
              "      <td>70</td>\n",
              "      <td>medium</td>\n",
              "      <td>peugeot</td>\n",
              "      <td>25.0</td>\n",
              "      <td>110.0</td>\n",
              "      <td>87.0</td>\n",
              "      <td>2672</td>\n",
              "      <td>17.5</td>\n",
              "    </tr>\n",
              "    <tr>\n",
              "      <th>21</th>\n",
              "      <td>europe</td>\n",
              "      <td>4</td>\n",
              "      <td>70</td>\n",
              "      <td>medium</td>\n",
              "      <td>audi</td>\n",
              "      <td>24.0</td>\n",
              "      <td>107.0</td>\n",
              "      <td>90.0</td>\n",
              "      <td>2430</td>\n",
              "      <td>14.5</td>\n",
              "    </tr>\n",
              "    <tr>\n",
              "      <th>22</th>\n",
              "      <td>europe</td>\n",
              "      <td>4</td>\n",
              "      <td>70</td>\n",
              "      <td>medium</td>\n",
              "      <td>saab</td>\n",
              "      <td>25.0</td>\n",
              "      <td>104.0</td>\n",
              "      <td>95.0</td>\n",
              "      <td>2375</td>\n",
              "      <td>17.5</td>\n",
              "    </tr>\n",
              "    <tr>\n",
              "      <th>23</th>\n",
              "      <td>europe</td>\n",
              "      <td>4</td>\n",
              "      <td>70</td>\n",
              "      <td>medium</td>\n",
              "      <td>bmw</td>\n",
              "      <td>26.0</td>\n",
              "      <td>121.0</td>\n",
              "      <td>113.0</td>\n",
              "      <td>2234</td>\n",
              "      <td>12.5</td>\n",
              "    </tr>\n",
              "  </tbody>\n",
              "</table>\n",
              "</div>"
            ],
            "text/plain": [
              "    origin  cylinders  model_year mpg_level car_company   mpg  displacement  \\\n",
              "19  europe          4          70    medium  volkswagen  26.0          97.0   \n",
              "20  europe          4          70    medium     peugeot  25.0         110.0   \n",
              "21  europe          4          70    medium        audi  24.0         107.0   \n",
              "22  europe          4          70    medium        saab  25.0         104.0   \n",
              "23  europe          4          70    medium         bmw  26.0         121.0   \n",
              "\n",
              "    horsepower  weight  acceleration  \n",
              "19        46.0    1835          20.5  \n",
              "20        87.0    2672          17.5  \n",
              "21        90.0    2430          14.5  \n",
              "22        95.0    2375          17.5  \n",
              "23       113.0    2234          12.5  "
            ]
          },
          "execution_count": 32,
          "metadata": {},
          "output_type": "execute_result"
        }
      ],
      "source": [
        "# We can now select all cars that are made in europe and save these to a new dataframe.\n",
        "# the loc command helps us subset the data based on a condition.\n",
        "df_european = df.loc[df['origin']== 'europe']\n",
        "df_european.head()"
      ]
    },
    {
      "cell_type": "code",
      "execution_count": null,
      "id": "ea321830-7b85-4a58-909a-498c2c776a67",
      "metadata": {
        "id": "ea321830-7b85-4a58-909a-498c2c776a67"
      },
      "outputs": [],
      "source": [
        "# Why don't you do the same thing for us cars and then calculate the average gas milage for european and us cars.\n",
        "# How do they compare?\n"
      ]
    },
    {
      "cell_type": "code",
      "execution_count": null,
      "id": "39201d1c",
      "metadata": {
        "id": "39201d1c"
      },
      "outputs": [],
      "source": []
    }
  ],
  "metadata": {
    "kernelspec": {
      "display_name": "Python 3",
      "language": "python",
      "name": "python3"
    },
    "language_info": {
      "codemirror_mode": {
        "name": "ipython",
        "version": 3
      },
      "file_extension": ".py",
      "mimetype": "text/x-python",
      "name": "python",
      "nbconvert_exporter": "python",
      "pygments_lexer": "ipython3",
      "version": "3.8.8"
    },
    "colab": {
      "provenance": []
    }
  },
  "nbformat": 4,
  "nbformat_minor": 5
}